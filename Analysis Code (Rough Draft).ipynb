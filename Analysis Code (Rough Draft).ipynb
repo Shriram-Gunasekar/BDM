{
  "nbformat": 4,
  "nbformat_minor": 0,
  "metadata": {
    "colab": {
      "provenance": []
    },
    "kernelspec": {
      "name": "python3",
      "display_name": "Python 3"
    },
    "language_info": {
      "name": "python"
    }
  },
  "cells": [
    {
      "cell_type": "markdown",
      "source": [
        "## **Mounting The Drive To Access Data**"
      ],
      "metadata": {
        "id": "pJKQvt5VpFL7"
      }
    },
    {
      "cell_type": "code",
      "execution_count": null,
      "metadata": {
        "colab": {
          "base_uri": "https://localhost:8080/"
        },
        "id": "ayurraWRpC0u",
        "outputId": "b0dfffc0-cae1-4ecb-8869-f2e2d217cad5"
      },
      "outputs": [
        {
          "output_type": "stream",
          "name": "stdout",
          "text": [
            "Drive already mounted at /content/drive; to attempt to forcibly remount, call drive.mount(\"/content/drive\", force_remount=True).\n"
          ]
        }
      ],
      "source": [
        "from google.colab import drive\n",
        "drive.mount('/content/drive')"
      ]
    },
    {
      "cell_type": "markdown",
      "source": [
        "## **Installation Of Necessary Packages**"
      ],
      "metadata": {
        "id": "AqCTrBC4pXSh"
      }
    },
    {
      "cell_type": "code",
      "source": [
        "!pip3 install control"
      ],
      "metadata": {
        "colab": {
          "base_uri": "https://localhost:8080/"
        },
        "id": "nmafpxkwpio4",
        "outputId": "3dcef50d-f052-4ae2-e837-003006c37576"
      },
      "execution_count": null,
      "outputs": [
        {
          "output_type": "stream",
          "name": "stdout",
          "text": [
            "Looking in indexes: https://pypi.org/simple, https://us-python.pkg.dev/colab-wheels/public/simple/\n",
            "Requirement already satisfied: control in /usr/local/lib/python3.9/dist-packages (0.9.3.post2)\n",
            "Requirement already satisfied: matplotlib in /usr/local/lib/python3.9/dist-packages (from control) (3.5.3)\n",
            "Requirement already satisfied: scipy>=1.3 in /usr/local/lib/python3.9/dist-packages (from control) (1.10.1)\n",
            "Requirement already satisfied: numpy in /usr/local/lib/python3.9/dist-packages (from control) (1.22.4)\n",
            "Requirement already satisfied: packaging>=20.0 in /usr/local/lib/python3.9/dist-packages (from matplotlib->control) (23.0)\n",
            "Requirement already satisfied: pillow>=6.2.0 in /usr/local/lib/python3.9/dist-packages (from matplotlib->control) (8.4.0)\n",
            "Requirement already satisfied: kiwisolver>=1.0.1 in /usr/local/lib/python3.9/dist-packages (from matplotlib->control) (1.4.4)\n",
            "Requirement already satisfied: python-dateutil>=2.7 in /usr/local/lib/python3.9/dist-packages (from matplotlib->control) (2.8.2)\n",
            "Requirement already satisfied: fonttools>=4.22.0 in /usr/local/lib/python3.9/dist-packages (from matplotlib->control) (4.39.0)\n",
            "Requirement already satisfied: pyparsing>=2.2.1 in /usr/local/lib/python3.9/dist-packages (from matplotlib->control) (3.0.9)\n",
            "Requirement already satisfied: cycler>=0.10 in /usr/local/lib/python3.9/dist-packages (from matplotlib->control) (0.11.0)\n",
            "Requirement already satisfied: six>=1.5 in /usr/local/lib/python3.9/dist-packages (from python-dateutil>=2.7->matplotlib->control) (1.15.0)\n"
          ]
        }
      ]
    },
    {
      "cell_type": "markdown",
      "source": [
        "## **Import Necessary Packages**"
      ],
      "metadata": {
        "id": "hq4XkjtDps8-"
      }
    },
    {
      "cell_type": "code",
      "source": [
        "import control as co                      # Library For Control Systems\n",
        "import sklearn as sk                      # Scikit Learn Library For Regression Analysis\n",
        "import tensorflow as tf                   # Tensorflow's GradientTape to compute derivatives/gradients\n",
        "import numpy as np                        # Numpy For Matrix Manipulations \n",
        "import pandas as pd                       # Pandas To Load Data Into DataFrames\n",
        "import matplotlib.pyplot as plt           # Matplotlib For Plotting\n",
        "import scipy as sp                        # Scipy For Function Definitions\n",
        "import sympy as sym                       # Sympy For Symbolic Mathematics In Python\n",
        "#import nashpy as nash\n",
        "#import networkx as nx"
      ],
      "metadata": {
        "id": "vBZ5y7Rhpz7y"
      },
      "execution_count": null,
      "outputs": []
    },
    {
      "cell_type": "markdown",
      "source": [
        "## **Read The Data Into DataFrames**"
      ],
      "metadata": {
        "id": "6BiURPUrqy9o"
      }
    },
    {
      "cell_type": "code",
      "source": [
        "yarn_purchase = pd.read_excel('/content/drive/MyDrive/BDM/BDM Proofs/Data/processed/GST PURCHASE OF YARN.xlsx')"
      ],
      "metadata": {
        "id": "5RrS_TMBrB_i"
      },
      "execution_count": null,
      "outputs": []
    },
    {
      "cell_type": "code",
      "source": [
        "yarn_purchase = yarn_purchase[['Date', 'KILO GRAMS', 'RATE', 'VALUE']]"
      ],
      "metadata": {
        "id": "8kGJRpu4s16j"
      },
      "execution_count": null,
      "outputs": []
    },
    {
      "cell_type": "code",
      "source": [
        "yarn_purchase.head()"
      ],
      "metadata": {
        "colab": {
          "base_uri": "https://localhost:8080/",
          "height": 206
        },
        "id": "lIR45MAzrsqP",
        "outputId": "6ea1dddb-79b3-42b3-8411-2a2e8b1ffe98"
      },
      "execution_count": null,
      "outputs": [
        {
          "output_type": "execute_result",
          "data": {
            "text/plain": [
              "        Date  KILO GRAMS  RATE   VALUE\n",
              "0 2021-04-05      750.00   229  171750\n",
              "1 2021-04-09     1800.00   245  441000\n",
              "2 2021-04-28     1000.00   197  197000\n",
              "3 2021-05-05     1200.00   195  234000\n",
              "4 2021-05-05     1935.36   210  406426"
            ],
            "text/html": [
              "\n",
              "  <div id=\"df-e369a9b6-e392-4467-a7a5-892e4d2ba134\">\n",
              "    <div class=\"colab-df-container\">\n",
              "      <div>\n",
              "<style scoped>\n",
              "    .dataframe tbody tr th:only-of-type {\n",
              "        vertical-align: middle;\n",
              "    }\n",
              "\n",
              "    .dataframe tbody tr th {\n",
              "        vertical-align: top;\n",
              "    }\n",
              "\n",
              "    .dataframe thead th {\n",
              "        text-align: right;\n",
              "    }\n",
              "</style>\n",
              "<table border=\"1\" class=\"dataframe\">\n",
              "  <thead>\n",
              "    <tr style=\"text-align: right;\">\n",
              "      <th></th>\n",
              "      <th>Date</th>\n",
              "      <th>KILO GRAMS</th>\n",
              "      <th>RATE</th>\n",
              "      <th>VALUE</th>\n",
              "    </tr>\n",
              "  </thead>\n",
              "  <tbody>\n",
              "    <tr>\n",
              "      <th>0</th>\n",
              "      <td>2021-04-05</td>\n",
              "      <td>750.00</td>\n",
              "      <td>229</td>\n",
              "      <td>171750</td>\n",
              "    </tr>\n",
              "    <tr>\n",
              "      <th>1</th>\n",
              "      <td>2021-04-09</td>\n",
              "      <td>1800.00</td>\n",
              "      <td>245</td>\n",
              "      <td>441000</td>\n",
              "    </tr>\n",
              "    <tr>\n",
              "      <th>2</th>\n",
              "      <td>2021-04-28</td>\n",
              "      <td>1000.00</td>\n",
              "      <td>197</td>\n",
              "      <td>197000</td>\n",
              "    </tr>\n",
              "    <tr>\n",
              "      <th>3</th>\n",
              "      <td>2021-05-05</td>\n",
              "      <td>1200.00</td>\n",
              "      <td>195</td>\n",
              "      <td>234000</td>\n",
              "    </tr>\n",
              "    <tr>\n",
              "      <th>4</th>\n",
              "      <td>2021-05-05</td>\n",
              "      <td>1935.36</td>\n",
              "      <td>210</td>\n",
              "      <td>406426</td>\n",
              "    </tr>\n",
              "  </tbody>\n",
              "</table>\n",
              "</div>\n",
              "      <button class=\"colab-df-convert\" onclick=\"convertToInteractive('df-e369a9b6-e392-4467-a7a5-892e4d2ba134')\"\n",
              "              title=\"Convert this dataframe to an interactive table.\"\n",
              "              style=\"display:none;\">\n",
              "        \n",
              "  <svg xmlns=\"http://www.w3.org/2000/svg\" height=\"24px\"viewBox=\"0 0 24 24\"\n",
              "       width=\"24px\">\n",
              "    <path d=\"M0 0h24v24H0V0z\" fill=\"none\"/>\n",
              "    <path d=\"M18.56 5.44l.94 2.06.94-2.06 2.06-.94-2.06-.94-.94-2.06-.94 2.06-2.06.94zm-11 1L8.5 8.5l.94-2.06 2.06-.94-2.06-.94L8.5 2.5l-.94 2.06-2.06.94zm10 10l.94 2.06.94-2.06 2.06-.94-2.06-.94-.94-2.06-.94 2.06-2.06.94z\"/><path d=\"M17.41 7.96l-1.37-1.37c-.4-.4-.92-.59-1.43-.59-.52 0-1.04.2-1.43.59L10.3 9.45l-7.72 7.72c-.78.78-.78 2.05 0 2.83L4 21.41c.39.39.9.59 1.41.59.51 0 1.02-.2 1.41-.59l7.78-7.78 2.81-2.81c.8-.78.8-2.07 0-2.86zM5.41 20L4 18.59l7.72-7.72 1.47 1.35L5.41 20z\"/>\n",
              "  </svg>\n",
              "      </button>\n",
              "      \n",
              "  <style>\n",
              "    .colab-df-container {\n",
              "      display:flex;\n",
              "      flex-wrap:wrap;\n",
              "      gap: 12px;\n",
              "    }\n",
              "\n",
              "    .colab-df-convert {\n",
              "      background-color: #E8F0FE;\n",
              "      border: none;\n",
              "      border-radius: 50%;\n",
              "      cursor: pointer;\n",
              "      display: none;\n",
              "      fill: #1967D2;\n",
              "      height: 32px;\n",
              "      padding: 0 0 0 0;\n",
              "      width: 32px;\n",
              "    }\n",
              "\n",
              "    .colab-df-convert:hover {\n",
              "      background-color: #E2EBFA;\n",
              "      box-shadow: 0px 1px 2px rgba(60, 64, 67, 0.3), 0px 1px 3px 1px rgba(60, 64, 67, 0.15);\n",
              "      fill: #174EA6;\n",
              "    }\n",
              "\n",
              "    [theme=dark] .colab-df-convert {\n",
              "      background-color: #3B4455;\n",
              "      fill: #D2E3FC;\n",
              "    }\n",
              "\n",
              "    [theme=dark] .colab-df-convert:hover {\n",
              "      background-color: #434B5C;\n",
              "      box-shadow: 0px 1px 3px 1px rgba(0, 0, 0, 0.15);\n",
              "      filter: drop-shadow(0px 1px 2px rgba(0, 0, 0, 0.3));\n",
              "      fill: #FFFFFF;\n",
              "    }\n",
              "  </style>\n",
              "\n",
              "      <script>\n",
              "        const buttonEl =\n",
              "          document.querySelector('#df-e369a9b6-e392-4467-a7a5-892e4d2ba134 button.colab-df-convert');\n",
              "        buttonEl.style.display =\n",
              "          google.colab.kernel.accessAllowed ? 'block' : 'none';\n",
              "\n",
              "        async function convertToInteractive(key) {\n",
              "          const element = document.querySelector('#df-e369a9b6-e392-4467-a7a5-892e4d2ba134');\n",
              "          const dataTable =\n",
              "            await google.colab.kernel.invokeFunction('convertToInteractive',\n",
              "                                                     [key], {});\n",
              "          if (!dataTable) return;\n",
              "\n",
              "          const docLinkHtml = 'Like what you see? Visit the ' +\n",
              "            '<a target=\"_blank\" href=https://colab.research.google.com/notebooks/data_table.ipynb>data table notebook</a>'\n",
              "            + ' to learn more about interactive tables.';\n",
              "          element.innerHTML = '';\n",
              "          dataTable['output_type'] = 'display_data';\n",
              "          await google.colab.output.renderOutput(dataTable, element);\n",
              "          const docLink = document.createElement('div');\n",
              "          docLink.innerHTML = docLinkHtml;\n",
              "          element.appendChild(docLink);\n",
              "        }\n",
              "      </script>\n",
              "    </div>\n",
              "  </div>\n",
              "  "
            ]
          },
          "metadata": {},
          "execution_count": 133
        }
      ]
    },
    {
      "cell_type": "code",
      "source": [
        "poplin_sales = pd.read_excel('/content/drive/MyDrive/BDM/BDM Proofs/Data/processed/GST SALES OF POPLIN.xlsx')"
      ],
      "metadata": {
        "id": "hUY5Nndlt8FS"
      },
      "execution_count": null,
      "outputs": []
    },
    {
      "cell_type": "code",
      "source": [
        "poplin_sales = poplin_sales[['Date', 'MTRS', 'RATE', 'Value']]"
      ],
      "metadata": {
        "id": "og_VYCKyuR6e"
      },
      "execution_count": null,
      "outputs": []
    },
    {
      "cell_type": "code",
      "source": [
        "poplin_sales.head()"
      ],
      "metadata": {
        "colab": {
          "base_uri": "https://localhost:8080/",
          "height": 206
        },
        "id": "X3ziCXP1uJ3H",
        "outputId": "6a3d7f68-61f5-4cd3-9874-f53f16e73230"
      },
      "execution_count": null,
      "outputs": [
        {
          "output_type": "execute_result",
          "data": {
            "text/plain": [
              "        Date    MTRS  RATE     Value\n",
              "0 2021-04-01   821.2  46.0   37775.2\n",
              "1 2021-04-01  2419.2  46.0  111283.2\n",
              "2 2021-04-01  3235.0  46.0  148810.0\n",
              "3 2021-04-01  1626.9  46.0   74837.4\n",
              "4 2021-04-02  1596.6  46.0   73443.6"
            ],
            "text/html": [
              "\n",
              "  <div id=\"df-42e99802-9ab0-437c-b77e-9340ccbb78db\">\n",
              "    <div class=\"colab-df-container\">\n",
              "      <div>\n",
              "<style scoped>\n",
              "    .dataframe tbody tr th:only-of-type {\n",
              "        vertical-align: middle;\n",
              "    }\n",
              "\n",
              "    .dataframe tbody tr th {\n",
              "        vertical-align: top;\n",
              "    }\n",
              "\n",
              "    .dataframe thead th {\n",
              "        text-align: right;\n",
              "    }\n",
              "</style>\n",
              "<table border=\"1\" class=\"dataframe\">\n",
              "  <thead>\n",
              "    <tr style=\"text-align: right;\">\n",
              "      <th></th>\n",
              "      <th>Date</th>\n",
              "      <th>MTRS</th>\n",
              "      <th>RATE</th>\n",
              "      <th>Value</th>\n",
              "    </tr>\n",
              "  </thead>\n",
              "  <tbody>\n",
              "    <tr>\n",
              "      <th>0</th>\n",
              "      <td>2021-04-01</td>\n",
              "      <td>821.2</td>\n",
              "      <td>46.0</td>\n",
              "      <td>37775.2</td>\n",
              "    </tr>\n",
              "    <tr>\n",
              "      <th>1</th>\n",
              "      <td>2021-04-01</td>\n",
              "      <td>2419.2</td>\n",
              "      <td>46.0</td>\n",
              "      <td>111283.2</td>\n",
              "    </tr>\n",
              "    <tr>\n",
              "      <th>2</th>\n",
              "      <td>2021-04-01</td>\n",
              "      <td>3235.0</td>\n",
              "      <td>46.0</td>\n",
              "      <td>148810.0</td>\n",
              "    </tr>\n",
              "    <tr>\n",
              "      <th>3</th>\n",
              "      <td>2021-04-01</td>\n",
              "      <td>1626.9</td>\n",
              "      <td>46.0</td>\n",
              "      <td>74837.4</td>\n",
              "    </tr>\n",
              "    <tr>\n",
              "      <th>4</th>\n",
              "      <td>2021-04-02</td>\n",
              "      <td>1596.6</td>\n",
              "      <td>46.0</td>\n",
              "      <td>73443.6</td>\n",
              "    </tr>\n",
              "  </tbody>\n",
              "</table>\n",
              "</div>\n",
              "      <button class=\"colab-df-convert\" onclick=\"convertToInteractive('df-42e99802-9ab0-437c-b77e-9340ccbb78db')\"\n",
              "              title=\"Convert this dataframe to an interactive table.\"\n",
              "              style=\"display:none;\">\n",
              "        \n",
              "  <svg xmlns=\"http://www.w3.org/2000/svg\" height=\"24px\"viewBox=\"0 0 24 24\"\n",
              "       width=\"24px\">\n",
              "    <path d=\"M0 0h24v24H0V0z\" fill=\"none\"/>\n",
              "    <path d=\"M18.56 5.44l.94 2.06.94-2.06 2.06-.94-2.06-.94-.94-2.06-.94 2.06-2.06.94zm-11 1L8.5 8.5l.94-2.06 2.06-.94-2.06-.94L8.5 2.5l-.94 2.06-2.06.94zm10 10l.94 2.06.94-2.06 2.06-.94-2.06-.94-.94-2.06-.94 2.06-2.06.94z\"/><path d=\"M17.41 7.96l-1.37-1.37c-.4-.4-.92-.59-1.43-.59-.52 0-1.04.2-1.43.59L10.3 9.45l-7.72 7.72c-.78.78-.78 2.05 0 2.83L4 21.41c.39.39.9.59 1.41.59.51 0 1.02-.2 1.41-.59l7.78-7.78 2.81-2.81c.8-.78.8-2.07 0-2.86zM5.41 20L4 18.59l7.72-7.72 1.47 1.35L5.41 20z\"/>\n",
              "  </svg>\n",
              "      </button>\n",
              "      \n",
              "  <style>\n",
              "    .colab-df-container {\n",
              "      display:flex;\n",
              "      flex-wrap:wrap;\n",
              "      gap: 12px;\n",
              "    }\n",
              "\n",
              "    .colab-df-convert {\n",
              "      background-color: #E8F0FE;\n",
              "      border: none;\n",
              "      border-radius: 50%;\n",
              "      cursor: pointer;\n",
              "      display: none;\n",
              "      fill: #1967D2;\n",
              "      height: 32px;\n",
              "      padding: 0 0 0 0;\n",
              "      width: 32px;\n",
              "    }\n",
              "\n",
              "    .colab-df-convert:hover {\n",
              "      background-color: #E2EBFA;\n",
              "      box-shadow: 0px 1px 2px rgba(60, 64, 67, 0.3), 0px 1px 3px 1px rgba(60, 64, 67, 0.15);\n",
              "      fill: #174EA6;\n",
              "    }\n",
              "\n",
              "    [theme=dark] .colab-df-convert {\n",
              "      background-color: #3B4455;\n",
              "      fill: #D2E3FC;\n",
              "    }\n",
              "\n",
              "    [theme=dark] .colab-df-convert:hover {\n",
              "      background-color: #434B5C;\n",
              "      box-shadow: 0px 1px 3px 1px rgba(0, 0, 0, 0.15);\n",
              "      filter: drop-shadow(0px 1px 2px rgba(0, 0, 0, 0.3));\n",
              "      fill: #FFFFFF;\n",
              "    }\n",
              "  </style>\n",
              "\n",
              "      <script>\n",
              "        const buttonEl =\n",
              "          document.querySelector('#df-42e99802-9ab0-437c-b77e-9340ccbb78db button.colab-df-convert');\n",
              "        buttonEl.style.display =\n",
              "          google.colab.kernel.accessAllowed ? 'block' : 'none';\n",
              "\n",
              "        async function convertToInteractive(key) {\n",
              "          const element = document.querySelector('#df-42e99802-9ab0-437c-b77e-9340ccbb78db');\n",
              "          const dataTable =\n",
              "            await google.colab.kernel.invokeFunction('convertToInteractive',\n",
              "                                                     [key], {});\n",
              "          if (!dataTable) return;\n",
              "\n",
              "          const docLinkHtml = 'Like what you see? Visit the ' +\n",
              "            '<a target=\"_blank\" href=https://colab.research.google.com/notebooks/data_table.ipynb>data table notebook</a>'\n",
              "            + ' to learn more about interactive tables.';\n",
              "          element.innerHTML = '';\n",
              "          dataTable['output_type'] = 'display_data';\n",
              "          await google.colab.output.renderOutput(dataTable, element);\n",
              "          const docLink = document.createElement('div');\n",
              "          docLink.innerHTML = docLinkHtml;\n",
              "          element.appendChild(docLink);\n",
              "        }\n",
              "      </script>\n",
              "    </div>\n",
              "  </div>\n",
              "  "
            ]
          },
          "metadata": {},
          "execution_count": 136
        }
      ]
    },
    {
      "cell_type": "code",
      "source": [
        "debtor_data = pd.read_excel('/content/drive/MyDrive/BDM/BDM Proofs/Data/processed/Debtor Return.xlsx')"
      ],
      "metadata": {
        "id": "dkezRtciurFR"
      },
      "execution_count": null,
      "outputs": []
    },
    {
      "cell_type": "code",
      "source": [
        "debtor_data.head()"
      ],
      "metadata": {
        "colab": {
          "base_uri": "https://localhost:8080/",
          "height": 206
        },
        "id": "HtuKZDUEu7sY",
        "outputId": "edb8854c-26ee-4d29-db1b-e7dd5af5fb69"
      },
      "execution_count": null,
      "outputs": [
        {
          "output_type": "execute_result",
          "data": {
            "text/plain": [
              "                     Particulars  Returned Money Date of Return\n",
              "0  JAYARANI JAYAWANI ENTERPRISES        32584.23     2021-04-02\n",
              "1  JAYARANI JAYAWANI ENTERPRISES        75361.72     2021-04-10\n",
              "2  JAYARANI JAYAWANI ENTERPRISES        48608.85     2021-04-20\n",
              "3  JAYARANI JAYAWANI ENTERPRISES        27376.06     2021-04-21\n",
              "4  JAYARANI JAYAWANI ENTERPRISES        48032.09     2021-05-18"
            ],
            "text/html": [
              "\n",
              "  <div id=\"df-a4e6903c-60ca-4da5-b4c1-7c36e7653a62\">\n",
              "    <div class=\"colab-df-container\">\n",
              "      <div>\n",
              "<style scoped>\n",
              "    .dataframe tbody tr th:only-of-type {\n",
              "        vertical-align: middle;\n",
              "    }\n",
              "\n",
              "    .dataframe tbody tr th {\n",
              "        vertical-align: top;\n",
              "    }\n",
              "\n",
              "    .dataframe thead th {\n",
              "        text-align: right;\n",
              "    }\n",
              "</style>\n",
              "<table border=\"1\" class=\"dataframe\">\n",
              "  <thead>\n",
              "    <tr style=\"text-align: right;\">\n",
              "      <th></th>\n",
              "      <th>Particulars</th>\n",
              "      <th>Returned Money</th>\n",
              "      <th>Date of Return</th>\n",
              "    </tr>\n",
              "  </thead>\n",
              "  <tbody>\n",
              "    <tr>\n",
              "      <th>0</th>\n",
              "      <td>JAYARANI JAYAWANI ENTERPRISES</td>\n",
              "      <td>32584.23</td>\n",
              "      <td>2021-04-02</td>\n",
              "    </tr>\n",
              "    <tr>\n",
              "      <th>1</th>\n",
              "      <td>JAYARANI JAYAWANI ENTERPRISES</td>\n",
              "      <td>75361.72</td>\n",
              "      <td>2021-04-10</td>\n",
              "    </tr>\n",
              "    <tr>\n",
              "      <th>2</th>\n",
              "      <td>JAYARANI JAYAWANI ENTERPRISES</td>\n",
              "      <td>48608.85</td>\n",
              "      <td>2021-04-20</td>\n",
              "    </tr>\n",
              "    <tr>\n",
              "      <th>3</th>\n",
              "      <td>JAYARANI JAYAWANI ENTERPRISES</td>\n",
              "      <td>27376.06</td>\n",
              "      <td>2021-04-21</td>\n",
              "    </tr>\n",
              "    <tr>\n",
              "      <th>4</th>\n",
              "      <td>JAYARANI JAYAWANI ENTERPRISES</td>\n",
              "      <td>48032.09</td>\n",
              "      <td>2021-05-18</td>\n",
              "    </tr>\n",
              "  </tbody>\n",
              "</table>\n",
              "</div>\n",
              "      <button class=\"colab-df-convert\" onclick=\"convertToInteractive('df-a4e6903c-60ca-4da5-b4c1-7c36e7653a62')\"\n",
              "              title=\"Convert this dataframe to an interactive table.\"\n",
              "              style=\"display:none;\">\n",
              "        \n",
              "  <svg xmlns=\"http://www.w3.org/2000/svg\" height=\"24px\"viewBox=\"0 0 24 24\"\n",
              "       width=\"24px\">\n",
              "    <path d=\"M0 0h24v24H0V0z\" fill=\"none\"/>\n",
              "    <path d=\"M18.56 5.44l.94 2.06.94-2.06 2.06-.94-2.06-.94-.94-2.06-.94 2.06-2.06.94zm-11 1L8.5 8.5l.94-2.06 2.06-.94-2.06-.94L8.5 2.5l-.94 2.06-2.06.94zm10 10l.94 2.06.94-2.06 2.06-.94-2.06-.94-.94-2.06-.94 2.06-2.06.94z\"/><path d=\"M17.41 7.96l-1.37-1.37c-.4-.4-.92-.59-1.43-.59-.52 0-1.04.2-1.43.59L10.3 9.45l-7.72 7.72c-.78.78-.78 2.05 0 2.83L4 21.41c.39.39.9.59 1.41.59.51 0 1.02-.2 1.41-.59l7.78-7.78 2.81-2.81c.8-.78.8-2.07 0-2.86zM5.41 20L4 18.59l7.72-7.72 1.47 1.35L5.41 20z\"/>\n",
              "  </svg>\n",
              "      </button>\n",
              "      \n",
              "  <style>\n",
              "    .colab-df-container {\n",
              "      display:flex;\n",
              "      flex-wrap:wrap;\n",
              "      gap: 12px;\n",
              "    }\n",
              "\n",
              "    .colab-df-convert {\n",
              "      background-color: #E8F0FE;\n",
              "      border: none;\n",
              "      border-radius: 50%;\n",
              "      cursor: pointer;\n",
              "      display: none;\n",
              "      fill: #1967D2;\n",
              "      height: 32px;\n",
              "      padding: 0 0 0 0;\n",
              "      width: 32px;\n",
              "    }\n",
              "\n",
              "    .colab-df-convert:hover {\n",
              "      background-color: #E2EBFA;\n",
              "      box-shadow: 0px 1px 2px rgba(60, 64, 67, 0.3), 0px 1px 3px 1px rgba(60, 64, 67, 0.15);\n",
              "      fill: #174EA6;\n",
              "    }\n",
              "\n",
              "    [theme=dark] .colab-df-convert {\n",
              "      background-color: #3B4455;\n",
              "      fill: #D2E3FC;\n",
              "    }\n",
              "\n",
              "    [theme=dark] .colab-df-convert:hover {\n",
              "      background-color: #434B5C;\n",
              "      box-shadow: 0px 1px 3px 1px rgba(0, 0, 0, 0.15);\n",
              "      filter: drop-shadow(0px 1px 2px rgba(0, 0, 0, 0.3));\n",
              "      fill: #FFFFFF;\n",
              "    }\n",
              "  </style>\n",
              "\n",
              "      <script>\n",
              "        const buttonEl =\n",
              "          document.querySelector('#df-a4e6903c-60ca-4da5-b4c1-7c36e7653a62 button.colab-df-convert');\n",
              "        buttonEl.style.display =\n",
              "          google.colab.kernel.accessAllowed ? 'block' : 'none';\n",
              "\n",
              "        async function convertToInteractive(key) {\n",
              "          const element = document.querySelector('#df-a4e6903c-60ca-4da5-b4c1-7c36e7653a62');\n",
              "          const dataTable =\n",
              "            await google.colab.kernel.invokeFunction('convertToInteractive',\n",
              "                                                     [key], {});\n",
              "          if (!dataTable) return;\n",
              "\n",
              "          const docLinkHtml = 'Like what you see? Visit the ' +\n",
              "            '<a target=\"_blank\" href=https://colab.research.google.com/notebooks/data_table.ipynb>data table notebook</a>'\n",
              "            + ' to learn more about interactive tables.';\n",
              "          element.innerHTML = '';\n",
              "          dataTable['output_type'] = 'display_data';\n",
              "          await google.colab.output.renderOutput(dataTable, element);\n",
              "          const docLink = document.createElement('div');\n",
              "          docLink.innerHTML = docLinkHtml;\n",
              "          element.appendChild(docLink);\n",
              "        }\n",
              "      </script>\n",
              "    </div>\n",
              "  </div>\n",
              "  "
            ]
          },
          "metadata": {},
          "execution_count": 138
        }
      ]
    },
    {
      "cell_type": "markdown",
      "source": [
        "### Yarn Price Forecasting"
      ],
      "metadata": {
        "id": "QBCWr7Qz0Psg"
      }
    },
    {
      "cell_type": "code",
      "source": [
        "#Converting DateTime Object To Fit On X Axis\n",
        "import datetime\n",
        "yarn_purchase['Date'] = pd.to_datetime(yarn_purchase.Date, format=\"%Y-%M-%D\")\n",
        "yarn_purchase['Date'] = yarn_purchase['Date'].map(datetime.datetime.toordinal)\n",
        "print(yarn_purchase.head())"
      ],
      "metadata": {
        "colab": {
          "base_uri": "https://localhost:8080/"
        },
        "id": "MxrWMBxd0bjU",
        "outputId": "73332451-a5a6-44bd-c543-a27d1f8a9f95"
      },
      "execution_count": null,
      "outputs": [
        {
          "output_type": "stream",
          "name": "stdout",
          "text": [
            "     Date  KILO GRAMS  RATE   VALUE\n",
            "0  737885      750.00   229  171750\n",
            "1  737889     1800.00   245  441000\n",
            "2  737908     1000.00   197  197000\n",
            "3  737915     1200.00   195  234000\n",
            "4  737915     1935.36   210  406426\n"
          ]
        }
      ]
    },
    {
      "cell_type": "code",
      "source": [
        "from sklearn.linear_model import LinearRegression\n",
        "Lreg = LinearRegression().fit(yarn_purchase[['Date', 'KILO GRAMS']], yarn_purchase['RATE'])\n",
        "Lreg.score(yarn_purchase[['Date', 'KILO GRAMS']], yarn_purchase['RATE'])"
      ],
      "metadata": {
        "colab": {
          "base_uri": "https://localhost:8080/"
        },
        "id": "GqrlxnvN2Ftj",
        "outputId": "66de9df6-1b78-4ec5-80bb-9e760a421f65"
      },
      "execution_count": null,
      "outputs": [
        {
          "output_type": "execute_result",
          "data": {
            "text/plain": [
              "0.8111555189805426"
            ]
          },
          "metadata": {},
          "execution_count": 140
        }
      ]
    },
    {
      "cell_type": "markdown",
      "source": [
        "### Predictor"
      ],
      "metadata": {
        "id": "VkfeYiNn52JC"
      }
    },
    {
      "cell_type": "code",
      "source": [
        "def yarn_price_predictor(date_and_weight):\n",
        "  return Lreg.predict(np.array(date_and_weight).reshape(1,-1))"
      ],
      "metadata": {
        "id": "x45F30i_4utj"
      },
      "execution_count": null,
      "outputs": []
    },
    {
      "cell_type": "code",
      "source": [
        "yarn_price_predictor([738800, 500])"
      ],
      "metadata": {
        "colab": {
          "base_uri": "https://localhost:8080/"
        },
        "id": "qH7-thSC5E8l",
        "outputId": "380c1ab1-cb15-416f-bc6b-cc66f7354c82"
      },
      "execution_count": null,
      "outputs": [
        {
          "output_type": "stream",
          "name": "stderr",
          "text": [
            "/usr/local/lib/python3.9/dist-packages/sklearn/base.py:439: UserWarning: X does not have valid feature names, but LinearRegression was fitted with feature names\n",
            "  warnings.warn(\n"
          ]
        },
        {
          "output_type": "execute_result",
          "data": {
            "text/plain": [
              "array([471.01601419])"
            ]
          },
          "metadata": {},
          "execution_count": 142
        }
      ]
    },
    {
      "cell_type": "code",
      "source": [
        "#Coefficients And Equation\n",
        "print(Lreg.coef_)\n",
        "print(Lreg.intercept_)"
      ],
      "metadata": {
        "colab": {
          "base_uri": "https://localhost:8080/"
        },
        "id": "GBwftAnc56iv",
        "outputId": "f68bc4de-1c44-43db-8527-307703c78442"
      },
      "execution_count": null,
      "outputs": [
        {
          "output_type": "stream",
          "name": "stdout",
          "text": [
            "[0.2982144  0.00514733]\n",
            "-219852.3555433859\n"
          ]
        }
      ]
    },
    {
      "cell_type": "markdown",
      "source": [
        "### Our Regression Equation\n",
        "Yarn_Price = 0.2982144 * date + 0.00514733 * weight - 219852.35543"
      ],
      "metadata": {
        "id": "oy3lXVri6J3q"
      }
    },
    {
      "cell_type": "code",
      "source": [
        "#Visualization\n",
        "\n",
        "fig = plt.figure()\n",
        "ax = plt.axes(projection='3d')\n",
        "xline = yarn_purchase['Date']\n",
        "zline = yarn_purchase['KILO GRAMS']\n",
        "yline = yarn_purchase['RATE']\n",
        "ax.plot3D(xline, yline, zline, 'gray')\n",
        "rate_line =  0.2982144 * yarn_purchase['Date'] + 0.00514733 * yarn_purchase['KILO GRAMS'] - 219852.35543\n",
        "ax.plot3D(yarn_purchase['Date'],rate_line,yarn_purchase['KILO GRAMS'],   'blue')\n",
        "ax.set_ylabel('RATE')\n",
        "ax.set_xlabel('DATE')\n",
        "ax.set_zlabel('KILOGRAMS')"
      ],
      "metadata": {
        "colab": {
          "base_uri": "https://localhost:8080/",
          "height": 272
        },
        "id": "fPlYcUhE6iv8",
        "outputId": "230f37ee-be01-432a-d6d0-c88535b7bbd8"
      },
      "execution_count": null,
      "outputs": [
        {
          "output_type": "execute_result",
          "data": {
            "text/plain": [
              "Text(0.5, 0, 'KILOGRAMS')"
            ]
          },
          "metadata": {},
          "execution_count": 144
        },
        {
          "output_type": "display_data",
          "data": {
            "text/plain": [
              "<Figure size 432x288 with 1 Axes>"
            ],
            "image/png": "[encoded data removed]"
          },
          "metadata": {
            "needs_background": "light"
          }
        }
      ]
    },
    {
      "cell_type": "markdown",
      "source": [
        "The Regression Line Is An Astonishingly Close Fit !!!\n",
        "A Better Fit May Be Easily Workable When There Is Even More Data Available\n",
        "We May Conclude That This Model Is Functional"
      ],
      "metadata": {
        "id": "zuR0t0VK-Q_n"
      }
    },
    {
      "cell_type": "code",
      "source": [
        "poplin_sales['Date'] = poplin_sales['Date'].map(datetime.datetime.toordinal)\n",
        "debtor_data['Date of Return'] = debtor_data['Date of Return'].map(datetime.datetime.toordinal)\n",
        "print(poplin_sales.head())"
      ],
      "metadata": {
        "colab": {
          "base_uri": "https://localhost:8080/"
        },
        "id": "qYpzVyb-jBFj",
        "outputId": "4cfe6973-c200-4ca0-8618-90e1b2f87db9"
      },
      "execution_count": null,
      "outputs": [
        {
          "output_type": "stream",
          "name": "stdout",
          "text": [
            "     Date    MTRS  RATE     Value\n",
            "0  737881   821.2  46.0   37775.2\n",
            "1  737881  2419.2  46.0  111283.2\n",
            "2  737881  3235.0  46.0  148810.0\n",
            "3  737881  1626.9  46.0   74837.4\n",
            "4  737882  1596.6  46.0   73443.6\n"
          ]
        }
      ]
    },
    {
      "cell_type": "code",
      "source": [
        "from sklearn.linear_model import LinearRegression\n",
        "Sreg = LinearRegression().fit(poplin_sales[['Date', 'MTRS']], poplin_sales['RATE'])\n",
        "Dreg = LinearRegression().fit(debtor_data[['Date of Return']], debtor_data['Returned Money'])\n",
        "Kreg = LinearRegression().fit(yarn_purchase[['Date', 'RATE']], yarn_purchase['KILO GRAMS'])"
      ],
      "metadata": {
        "id": "NNwu8KuBjmsI"
      },
      "execution_count": null,
      "outputs": []
    },
    {
      "cell_type": "code",
      "source": [
        "Sreg.coef_"
      ],
      "metadata": {
        "colab": {
          "base_uri": "https://localhost:8080/"
        },
        "id": "rb3uV049GtGR",
        "outputId": "169cb40c-d3a0-4552-a483-1cb4704ec74b"
      },
      "execution_count": null,
      "outputs": [
        {
          "output_type": "execute_result",
          "data": {
            "text/plain": [
              "array([ 0.02705822, -0.00031816])"
            ]
          },
          "metadata": {},
          "execution_count": 157
        }
      ]
    },
    {
      "cell_type": "code",
      "source": [
        "Sreg.intercept_"
      ],
      "metadata": {
        "colab": {
          "base_uri": "https://localhost:8080/"
        },
        "id": "SEAQBFl5GwUQ",
        "outputId": "bea6494d-b562-41ba-a619-9af147e9a35c"
      },
      "execution_count": null,
      "outputs": [
        {
          "output_type": "execute_result",
          "data": {
            "text/plain": [
              "-19921.505265947093"
            ]
          },
          "metadata": {},
          "execution_count": 158
        }
      ]
    },
    {
      "cell_type": "code",
      "source": [
        "Kreg.coef_"
      ],
      "metadata": {
        "colab": {
          "base_uri": "https://localhost:8080/"
        },
        "id": "-kT9Wha5JQvP",
        "outputId": "b46c8beb-2436-45c1-ed58-f499bf33c782"
      },
      "execution_count": null,
      "outputs": [
        {
          "output_type": "execute_result",
          "data": {
            "text/plain": [
              "array([-3.38590961, 10.58710269])"
            ]
          },
          "metadata": {},
          "execution_count": 166
        }
      ]
    },
    {
      "cell_type": "code",
      "source": [
        "Kreg.intercept_"
      ],
      "metadata": {
        "colab": {
          "base_uri": "https://localhost:8080/"
        },
        "id": "AKwgfIOYJWss",
        "outputId": "e2d66d01-0347-4f44-d0ba-cdb84c91969d"
      },
      "execution_count": null,
      "outputs": [
        {
          "output_type": "execute_result",
          "data": {
            "text/plain": [
              "2497678.446753463"
            ]
          },
          "metadata": {},
          "execution_count": 167
        }
      ]
    },
    {
      "cell_type": "code",
      "source": [
        "fig = plt.figure()\n",
        "ax = plt.axes(projection='3d')\n",
        "xline = poplin_sales['Date']\n",
        "zline = poplin_sales['MTRS']\n",
        "yline = poplin_sales['RATE']\n",
        "ax.plot3D(xline, yline, zline, 'gray')\n",
        "rate_line =  0.02705822 * poplin_sales['Date'] + -0.00031816 * poplin_sales['MTRS'] -19921.505265947093\n",
        "ax.plot3D(poplin_sales['Date'],rate_line,poplin_sales['MTRS'],   'blue')\n",
        "ax.set_ylabel('RATE')\n",
        "ax.set_xlabel('DATE')\n",
        "ax.set_zlabel('MTRS')"
      ],
      "metadata": {
        "colab": {
          "base_uri": "https://localhost:8080/",
          "height": 274
        },
        "id": "1yUhWdEEu261",
        "outputId": "afcc462d-eceb-4433-efc4-85a4a3dfab8e"
      },
      "execution_count": null,
      "outputs": [
        {
          "output_type": "execute_result",
          "data": {
            "text/plain": [
              "Text(0.5, 0, 'MTRS')"
            ]
          },
          "metadata": {},
          "execution_count": 159
        },
        {
          "output_type": "display_data",
          "data": {
            "text/plain": [
              "<Figure size 432x288 with 1 Axes>"
            ],
            "image/png": "[encoded data removed]"
          },
          "metadata": {
            "needs_background": "light"
          }
        }
      ]
    },
    {
      "cell_type": "markdown",
      "source": [],
      "metadata": {
        "id": "J3U7Zm5iiN7e"
      }
    },
    {
      "cell_type": "code",
      "source": [
        "#Max And Min of Rate\n",
        "#rmax, rmin = np.max(yarn_purchase['RATE']), np.min(yarn_purchase['RATE'])\n",
        "mmax, mmin = int(np.max(poplin_sales['MTRS'])), int(np.min(poplin_sales['MTRS']))\n",
        "kmax, kmin = int(np.max(yarn_purchase['KILO GRAMS'])), int(np.min(yarn_purchase['KILO GRAMS']))"
      ],
      "metadata": {
        "id": "LH_L2NZXgVpq"
      },
      "execution_count": null,
      "outputs": []
    },
    {
      "cell_type": "code",
      "source": [
        "print(mmax, mmin, kmax, kmin)"
      ],
      "metadata": {
        "id": "WBpgJ7-Gk8ad"
      },
      "execution_count": null,
      "outputs": []
    },
    {
      "cell_type": "markdown",
      "source": [
        "## Control System Implementation\n",
        "#### Randomly initialized State Space Matrices Will Be Updated Via Gradient Descent\n",
        "#### Two State Space Systems Will Be Developed - One For Predictive Control From The Business' Perspective And Another To Model Bad Debtor Data"
      ],
      "metadata": {
        "id": "CpMhXJXJ-WZJ"
      }
    },
    {
      "cell_type": "code",
      "source": [
        "# Financial Year Start And End\n",
        "\n",
        "import datetime\n",
        "fyear_start = datetime.date(year=2021, month=4, day=1).toordinal()\n",
        "fyear_end   = datetime.date(year=2022, month=3, day=31).toordinal()\n",
        "print(fyear_start, fyear_end)\n",
        "timeline = list(range(fyear_start, fyear_end+1))\n",
        "len(timeline)"
      ],
      "metadata": {
        "id": "YWn4I6SOCh5j"
      },
      "execution_count": null,
      "outputs": []
    },
    {
      "cell_type": "code",
      "source": [
        "SysA = np.random.normal(75, size=(3,3))\n",
        "InpB = np.random.normal(10, size=(3,3))\n",
        "OutC = np.random.normal(200, size=(3,3))\n",
        "FdbD = np.random.normal(50, size=(3,3))"
      ],
      "metadata": {
        "id": "OcP3SZfhmPJt"
      },
      "execution_count": null,
      "outputs": []
    },
    {
      "cell_type": "code",
      "source": [
        "Xd = np.random.normal(10, size=(3,1))\n",
        "X = np.random.normal(35, size=(3,1))\n",
        "I = np.random.normal(23, size=(3,1))"
      ],
      "metadata": {
        "id": "Vk1qQYMOndcm"
      },
      "execution_count": null,
      "outputs": []
    },
    {
      "cell_type": "code",
      "source": [
        "print(SysA, InpB, OutC, FdbD, Xd)"
      ],
      "metadata": {
        "id": "HvuknJbw4AfZ"
      },
      "execution_count": null,
      "outputs": []
    },
    {
      "cell_type": "markdown",
      "source": [
        "## State Variable Parameters\n",
        "Control Input = Yarn Purchase In Kilograms\n",
        "\n",
        "State Variables = Yarn Price, Current Expected Sales, Predicted Losses"
      ],
      "metadata": {
        "id": "7nWVFJDAlrmw"
      }
    },
    {
      "cell_type": "code",
      "source": [
        "n_iter = 100\n",
        "eta0 = 0.01\n",
        "from random import randint\n",
        "for j in range(n_iter):\n",
        "    for i in range(fyear_start, fyear_end+1):\n",
        "      error = np.subtract(Xd, \n",
        "                    np.matmul(SysA, np.array([\n",
        "                        Lreg.predict( np.array([i, randint(kmin, kmax)]).reshape(1,-1) ),\n",
        "                        Sreg.predict( np.array([i, randint(mmin, mmax)]).reshape(1,-1) ),\n",
        "                        Dreg.predict( np.array(i).reshape(1,-1) )\n",
        "                                          ])\n",
        "                         ) \n",
        "                    + \n",
        "                    np.matmul(InpB, np.array([[randint(kmin, kmax)],[0],[0]]))\n",
        "      )\n",
        "      Xd = Xd - eta0 * error\n",
        "\n"
      ],
      "metadata": {
        "id": "uo7xejcIl9Re"
      },
      "execution_count": null,
      "outputs": []
    },
    {
      "cell_type": "code",
      "source": [
        "print(Xd)"
      ],
      "metadata": {
        "id": "f5QuIr4pszzm"
      },
      "execution_count": null,
      "outputs": []
    },
    {
      "cell_type": "code",
      "source": [
        "mysystem = co.ss(SysA, InpB, OutC, FdbD)"
      ],
      "metadata": {
        "id": "RJplK59p4KOw"
      },
      "execution_count": null,
      "outputs": []
    },
    {
      "cell_type": "code",
      "source": [
        "mysystem"
      ],
      "metadata": {
        "id": "Kgc5a8gn4o8N"
      },
      "execution_count": null,
      "outputs": []
    },
    {
      "cell_type": "code",
      "source": [
        "mag, phase, omega = mysystem.frequency_response([1])"
      ],
      "metadata": {
        "id": "klRqmECG4yN3"
      },
      "execution_count": null,
      "outputs": []
    },
    {
      "cell_type": "code",
      "source": [
        "print(mag)"
      ],
      "metadata": {
        "id": "j7VQdq4F6AGv"
      },
      "execution_count": null,
      "outputs": []
    },
    {
      "cell_type": "code",
      "source": [
        "print(phase)"
      ],
      "metadata": {
        "id": "HBzDIdq06HNr"
      },
      "execution_count": null,
      "outputs": []
    },
    {
      "cell_type": "code",
      "source": [
        "print(omega)"
      ],
      "metadata": {
        "id": "AED98mD_6Jta"
      },
      "execution_count": null,
      "outputs": []
    },
    {
      "cell_type": "code",
      "source": [
        "mag.shape"
      ],
      "metadata": {
        "id": "7i2Ev47r6cbB"
      },
      "execution_count": null,
      "outputs": []
    },
    {
      "cell_type": "code",
      "source": [
        "mysystem.getitem(0)"
      ],
      "metadata": {
        "id": "00352kP8xfIy"
      },
      "execution_count": null,
      "outputs": []
    },
    {
      "cell_type": "code",
      "source": [
        "x = co.forced_response(mysystem, T=[10,11,12])\n",
        "x[1]"
      ],
      "metadata": {
        "id": "VNVbp-u8wmSR"
      },
      "execution_count": null,
      "outputs": []
    }
  ]
}